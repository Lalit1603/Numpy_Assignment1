{
 "cells": [
  {
   "cell_type": "code",
   "execution_count": null,
   "id": "e8865d88",
   "metadata": {},
   "outputs": [],
   "source": [
    "# 1.What is a Python library? Why do we use Python libraries"
   ]
  },
  {
   "cell_type": "markdown",
   "id": "a67a6344",
   "metadata": {},
   "source": [
    "A Python library is a collection of functions and methods that allows you to perform many actions without writing your own code for each action. These libraries typically provide pre-written code for common tasks, such as mathematical operations, data manipulation, web development, machine learning, and much more.\n",
    "\n",
    "We use Python libraries for several reasons:\n",
    "\n",
    "Code Reusability: Libraries encapsulate reusable code, saving developers time and effort by providing pre-built functions and classes.\n",
    "Efficiency: Using libraries allows developers to leverage optimized, well-tested code rather than reinventing the wheel for every project.\n",
    "Specialized Functionality: Libraries often contain specialized functionality tailored to specific tasks or domains, such as scientific computing (NumPy, SciPy), data analysis (Pandas), machine learning (scikit-learn, TensorFlow), and web development (Django, Flask).\n",
    "Community Contributions: Python libraries are often open-source, meaning they are developed and maintained by a community of contributors. This collaborative effort results in robust, feature-rich libraries that evolve over time.\n",
    "Interoperability: Python libraries are designed to work well together, allowing developers to combine multiple libraries to achieve complex tasks."
   ]
  },
  {
   "cell_type": "code",
   "execution_count": null,
   "id": "34809c16",
   "metadata": {},
   "outputs": [],
   "source": [
    "#2.What is the difference between Numpy array and List?"
   ]
  },
  {
   "cell_type": "code",
   "execution_count": null,
   "id": "02ada777",
   "metadata": {},
   "outputs": [],
   "source": [
    "Array Stores homogeneous data it takess lesser time to reply\n",
    "List Store Hetrogeneous type of data it takes more time than Array to reply\n",
    "List is Referencing addresses.It stores the address not themselves.\n",
    "Array is statically defined not dynamically like list \n",
    "Array is Fast because all data having some data types"
   ]
  },
  {
   "cell_type": "code",
   "execution_count": 4,
   "id": "b7341ef7",
   "metadata": {},
   "outputs": [],
   "source": [
    "# 3 . Find the shape, size and dimension of the following array?\n",
    "import numpy as np\n",
    "\n",
    "arr1 = np.array([[1, 2, 3, 4],\n",
    " [5, 6, 7, 8],\n",
    " [9, 10, 11, 12]])"
   ]
  },
  {
   "cell_type": "code",
   "execution_count": 5,
   "id": "098673a6",
   "metadata": {},
   "outputs": [
    {
     "data": {
      "text/plain": [
       "array([[ 1,  2,  3,  4],\n",
       "       [ 5,  6,  7,  8],\n",
       "       [ 9, 10, 11, 12]])"
      ]
     },
     "execution_count": 5,
     "metadata": {},
     "output_type": "execute_result"
    }
   ],
   "source": [
    "arr1"
   ]
  },
  {
   "cell_type": "code",
   "execution_count": 6,
   "id": "57a93004",
   "metadata": {},
   "outputs": [
    {
     "name": "stdout",
     "output_type": "stream",
     "text": [
      "(3, 4)\n",
      "12\n",
      "2\n"
     ]
    }
   ],
   "source": [
    "print(arr1.shape)\n",
    "print(arr1.size)\n",
    "print(arr1.ndim)"
   ]
  },
  {
   "cell_type": "code",
   "execution_count": 9,
   "id": "845ade24",
   "metadata": {},
   "outputs": [
    {
     "name": "stdout",
     "output_type": "stream",
     "text": [
      "[1 2 3 4]\n"
     ]
    }
   ],
   "source": [
    "#4. Write python code to access the first row of the following array?\n",
    "def accessRow(arr):\n",
    "    if arr.size !=0:\n",
    "        print(arr[0])\n",
    "accessRow(arr1)"
   ]
  },
  {
   "cell_type": "code",
   "execution_count": 13,
   "id": "9d6a51b2",
   "metadata": {},
   "outputs": [
    {
     "name": "stdout",
     "output_type": "stream",
     "text": [
      "12\n"
     ]
    }
   ],
   "source": [
    "#5.How do you access the element at the third row and fourth column from the given numpy array\n",
    "print(arr1[2][3])"
   ]
  },
  {
   "cell_type": "code",
   "execution_count": 15,
   "id": "19949b20",
   "metadata": {},
   "outputs": [
    {
     "name": "stdout",
     "output_type": "stream",
     "text": [
      "[[ 2  4]\n",
      " [ 6  8]\n",
      " [10 12]]\n"
     ]
    }
   ],
   "source": [
    "#6.. Write code to extract all odd-indexed elements from the given numpy array\n",
    "odd_indices = arr1[:, 1::2]\n",
    "\n",
    "print(odd_indices)"
   ]
  },
  {
   "cell_type": "code",
   "execution_count": 21,
   "id": "4b7edad6",
   "metadata": {},
   "outputs": [],
   "source": [
    "#7.. How can you generate a random 3x3 matrix with values between 0 and 1\n",
    "arr2 = np.random.rand(3, 3)"
   ]
  },
  {
   "cell_type": "code",
   "execution_count": 22,
   "id": "887cbe41",
   "metadata": {},
   "outputs": [
    {
     "data": {
      "text/plain": [
       "array([[0.69399995, 0.80115415, 0.27399678],\n",
       "       [0.37775249, 0.64675373, 0.81343742],\n",
       "       [0.93836154, 0.0350762 , 0.51263791]])"
      ]
     },
     "execution_count": 22,
     "metadata": {},
     "output_type": "execute_result"
    }
   ],
   "source": [
    "arr2"
   ]
  },
  {
   "cell_type": "code",
   "execution_count": null,
   "id": "aab34fa4",
   "metadata": {},
   "outputs": [],
   "source": [
    "#8. Describe the difference between np.random.rand and np.random.randn\n",
    "np.random.rand generates random numbers from a uniform distribution between 0 and 1, while np.random.randn \n",
    "generates random numbers from a standard normal distribution (mean=0, standard deviation=1)."
   ]
  },
  {
   "cell_type": "code",
   "execution_count": 25,
   "id": "7deb5027",
   "metadata": {},
   "outputs": [],
   "source": [
    "#9. Write code to increase the dimension of the following array?\n",
    "arr3 = np.expand_dims(arr1, axis=0)"
   ]
  },
  {
   "cell_type": "code",
   "execution_count": 26,
   "id": "e212f487",
   "metadata": {},
   "outputs": [
    {
     "data": {
      "text/plain": [
       "array([[[ 1,  2,  3,  4],\n",
       "        [ 5,  6,  7,  8],\n",
       "        [ 9, 10, 11, 12]]])"
      ]
     },
     "execution_count": 26,
     "metadata": {},
     "output_type": "execute_result"
    }
   ],
   "source": [
    "arr3"
   ]
  },
  {
   "cell_type": "code",
   "execution_count": 28,
   "id": "bb2a3ef8",
   "metadata": {},
   "outputs": [],
   "source": [
    "#10. How to transpose the following array in NumPy\n",
    "arr4 = arr1.T"
   ]
  },
  {
   "cell_type": "code",
   "execution_count": 29,
   "id": "a4844b5d",
   "metadata": {},
   "outputs": [
    {
     "data": {
      "text/plain": [
       "array([[ 1,  5,  9],\n",
       "       [ 2,  6, 10],\n",
       "       [ 3,  7, 11],\n",
       "       [ 4,  8, 12]])"
      ]
     },
     "execution_count": 29,
     "metadata": {},
     "output_type": "execute_result"
    }
   ],
   "source": [
    "arr4"
   ]
  },
  {
   "cell_type": "markdown",
   "id": "c7b10dd0",
   "metadata": {},
   "source": [
    "#11.Consider the following matrix:\n",
    " Matrix A: [[1, 2, 3, 4] [5, 6, 7, 8],[9, 10, 11, 12]]\n",
    " Matrix B: [[1, 2, 3, 4] [5, 6, 7, 8],[9, 10, 11, 12]]"
   ]
  },
  {
   "cell_type": "code",
   "execution_count": 34,
   "id": "4d57d061",
   "metadata": {},
   "outputs": [],
   "source": [
    "arr1 = np.array([[1, 2, 3, 4], [5, 6, 7, 8],[9, 10, 11, 12]])\n",
    "arr2 = np.array([[1, 2, 3, 4], [5, 6, 7, 8],[9, 10, 11, 12]])"
   ]
  },
  {
   "cell_type": "code",
   "execution_count": 35,
   "id": "9281d745",
   "metadata": {},
   "outputs": [
    {
     "data": {
      "text/plain": [
       "array([[  1,   4,   9,  16],\n",
       "       [ 25,  36,  49,  64],\n",
       "       [ 81, 100, 121, 144]])"
      ]
     },
     "execution_count": 35,
     "metadata": {},
     "output_type": "execute_result"
    }
   ],
   "source": [
    "#index wise multiplication\n",
    "arr1*arr2"
   ]
  },
  {
   "cell_type": "code",
   "execution_count": 37,
   "id": "8320aff0",
   "metadata": {},
   "outputs": [],
   "source": [
    "#matrix multiplication\n",
    "array1 = np.array([[1, 2],\n",
    "                   [3, 4]])\n",
    "\n",
    "array2 = np.array([[5, 6],\n",
    "                   [7, 8]])"
   ]
  },
  {
   "cell_type": "code",
   "execution_count": 39,
   "id": "f8803542",
   "metadata": {},
   "outputs": [
    {
     "data": {
      "text/plain": [
       "array([[19, 22],\n",
       "       [43, 50]])"
      ]
     },
     "execution_count": 39,
     "metadata": {},
     "output_type": "execute_result"
    }
   ],
   "source": [
    "array1 @ array2"
   ]
  },
  {
   "cell_type": "code",
   "execution_count": 40,
   "id": "7e166801",
   "metadata": {},
   "outputs": [
    {
     "data": {
      "text/plain": [
       "array([[ 2,  4,  6,  8],\n",
       "       [10, 12, 14, 16],\n",
       "       [18, 20, 22, 24]])"
      ]
     },
     "execution_count": 40,
     "metadata": {},
     "output_type": "execute_result"
    }
   ],
   "source": [
    "#add both matrix\n",
    "arr1 + arr2 "
   ]
  },
  {
   "cell_type": "code",
   "execution_count": 41,
   "id": "9af4b7bc",
   "metadata": {},
   "outputs": [
    {
     "data": {
      "text/plain": [
       "array([[0, 0, 0, 0],\n",
       "       [0, 0, 0, 0],\n",
       "       [0, 0, 0, 0]])"
      ]
     },
     "execution_count": 41,
     "metadata": {},
     "output_type": "execute_result"
    }
   ],
   "source": [
    "#subtract matrix b from a \n",
    "arr2 - arr1"
   ]
  },
  {
   "cell_type": "code",
   "execution_count": 42,
   "id": "52feb470",
   "metadata": {},
   "outputs": [
    {
     "data": {
      "text/plain": [
       "array([[1., 1., 1., 1.],\n",
       "       [1., 1., 1., 1.],\n",
       "       [1., 1., 1., 1.]])"
      ]
     },
     "execution_count": 42,
     "metadata": {},
     "output_type": "execute_result"
    }
   ],
   "source": [
    "#divide matrix b from a \n",
    "arr2/arr1"
   ]
  },
  {
   "cell_type": "code",
   "execution_count": null,
   "id": "e170f87f",
   "metadata": {},
   "outputs": [],
   "source": [
    "#12.Which function in Numpy can be used to swap the byte order of an array\n",
    "np.ndarray.byteswap()"
   ]
  },
  {
   "cell_type": "code",
   "execution_count": null,
   "id": "5b674493",
   "metadata": {},
   "outputs": [],
   "source": [
    "#13.What is the significance of the np.linalg.inv function\n",
    "np.linalg.inv function in NumPy is used to compute the multiplicative inverse of a matrix"
   ]
  },
  {
   "cell_type": "code",
   "execution_count": 43,
   "id": "8a057f10",
   "metadata": {},
   "outputs": [
    {
     "data": {
      "text/plain": [
       "array([ 1,  2,  3,  4,  5,  6,  7,  8,  9, 10, 11, 12])"
      ]
     },
     "execution_count": 43,
     "metadata": {},
     "output_type": "execute_result"
    }
   ],
   "source": [
    "#14. What does the np.reshape function do, and how is it used\n",
    "#reshape()fun is convert the original shape of array into shpae we are mention in parameter if with in range\n",
    "arr1.reshape(12)"
   ]
  },
  {
   "cell_type": "code",
   "execution_count": null,
   "id": "47455871",
   "metadata": {},
   "outputs": [],
   "source": [
    "#What is broadcasting in Numpy?\n",
    "Broadcasting in NumPy is a powerful mechanism that allows arrays of different shapes to be combined\n",
    "together in arithmetic and logical operations. It enables NumPy to perform these operations even when\n",
    "the shapes of the arrays are not compatible, by implicitly \n",
    "replicating the smaller array along the missing dimensions to match the shape of the larger array."
   ]
  }
 ],
 "metadata": {
  "kernelspec": {
   "display_name": "Python 3 (ipykernel)",
   "language": "python",
   "name": "python3"
  },
  "language_info": {
   "codemirror_mode": {
    "name": "ipython",
    "version": 3
   },
   "file_extension": ".py",
   "mimetype": "text/x-python",
   "name": "python",
   "nbconvert_exporter": "python",
   "pygments_lexer": "ipython3",
   "version": "3.11.5"
  }
 },
 "nbformat": 4,
 "nbformat_minor": 5
}
